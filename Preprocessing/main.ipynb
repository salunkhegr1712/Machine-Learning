{
 "cells": [
  {
   "cell_type": "code",
   "execution_count": 141,
   "metadata": {},
   "outputs": [],
   "source": [
    "# in this file i am going to learn about the data preprocssing with the use of the python"
   ]
  },
  {
   "attachments": {},
   "cell_type": "markdown",
   "metadata": {},
   "source": [
    "# Preprocssing in Python"
   ]
  },
  {
   "attachments": {},
   "cell_type": "markdown",
   "metadata": {},
   "source": [
    "## importing basis packages"
   ]
  },
  {
   "cell_type": "code",
   "execution_count": 142,
   "metadata": {},
   "outputs": [],
   "source": [
    "# import basic tools\n",
    "from matplotlib import pyplot as plt\n",
    "import pandas as pd\n",
    "import numpy as np "
   ]
  },
  {
   "attachments": {},
   "cell_type": "markdown",
   "metadata": {},
   "source": [
    "## importing dataset"
   ]
  },
  {
   "cell_type": "code",
   "execution_count": 143,
   "metadata": {},
   "outputs": [],
   "source": [
    "# importing data as the dataframe\n",
    "df=pd.read_csv(\"Data.csv\")\n",
    "\n",
    "# now our next part is to also find out two different entity :\n",
    "\n",
    "# a) matrix of feature that is dataset without final column of result  \n",
    "# b) dependent variable vector (final column)\n",
    "\n",
    "# easy way using iloc function \n",
    "\n",
    "x=df.iloc[:,:-1].values#.values # for matrix of features\n",
    "y=df.iloc[:,-1:].values#.values # for dependent variable vector"
   ]
  },
  {
   "cell_type": "code",
   "execution_count": 144,
   "metadata": {},
   "outputs": [
    {
     "name": "stdout",
     "output_type": "stream",
     "text": [
      "[['France' 44.0 72000.0]\n",
      " ['Spain' 27.0 48000.0]\n",
      " ['Germany' 30.0 54000.0]\n",
      " ['Spain' 38.0 61000.0]\n",
      " ['Germany' 40.0 nan]\n",
      " ['France' 35.0 58000.0]\n",
      " ['Spain' nan 52000.0]\n",
      " ['France' 48.0 79000.0]\n",
      " ['Germany' 50.0 83000.0]\n",
      " ['France' 37.0 67000.0]]\n"
     ]
    }
   ],
   "source": [
    "print(x)"
   ]
  },
  {
   "cell_type": "code",
   "execution_count": 145,
   "metadata": {},
   "outputs": [
    {
     "name": "stdout",
     "output_type": "stream",
     "text": [
      "[['No']\n",
      " ['Yes']\n",
      " ['No']\n",
      " ['No']\n",
      " ['Yes']\n",
      " ['Yes']\n",
      " ['No']\n",
      " ['Yes']\n",
      " ['No']\n",
      " ['Yes']]\n"
     ]
    }
   ],
   "source": [
    "print(y)"
   ]
  },
  {
   "attachments": {},
   "cell_type": "markdown",
   "metadata": {},
   "source": [
    "## Taking care of missing data"
   ]
  },
  {
   "cell_type": "code",
   "execution_count": 146,
   "metadata": {},
   "outputs": [
    {
     "name": "stdout",
     "output_type": "stream",
     "text": [
      "[['France' 44.0 72000.0]\n",
      " ['Spain' 27.0 48000.0]\n",
      " ['Germany' 30.0 54000.0]\n",
      " ['Spain' 38.0 61000.0]\n",
      " ['Germany' 40.0 63777.77777777778]\n",
      " ['France' 35.0 58000.0]\n",
      " ['Spain' 38.77777777777778 52000.0]\n",
      " ['France' 48.0 79000.0]\n",
      " ['Germany' 50.0 83000.0]\n",
      " ['France' 37.0 67000.0]]\n"
     ]
    }
   ],
   "source": [
    "# we are going to use simpleImputer from scikit which is one of the great ML library \n",
    "from sklearn.impute import SimpleImputer\n",
    "\n",
    "# the SimpleImputer is a class so lets create a object\n",
    "imputer = SimpleImputer(missing_values=np.nan,strategy=\"mean\")\n",
    "\n",
    "# now lets fit the object with the data we want to change \n",
    "imputer.fit(x[:,1:])\n",
    "# this will only change same row \n",
    "x[:,1:]=imputer.transform(x[:,1:])\n",
    "print(x)"
   ]
  },
  {
   "cell_type": "code",
   "execution_count": 147,
   "metadata": {},
   "outputs": [
    {
     "name": "stdout",
     "output_type": "stream",
     "text": [
      "[['France' 44.0 72000.0 'No']\n",
      " ['Spain' 27.0 48000.0 'Yes']\n",
      " ['Germany' 30.0 54000.0 'No']\n",
      " ['Spain' 38.0 61000.0 'No']\n",
      " ['Germany' 40.0 63777.77777777778 'Yes']\n",
      " ['France' 35.0 58000.0 'Yes']\n",
      " ['Spain' 38.77777777777778 52000.0 'No']\n",
      " ['France' 48.0 79000.0 'Yes']\n",
      " ['Germany' 50.0 83000.0 'No']\n",
      " ['France' 37.0 67000.0 'Yes']]\n"
     ]
    }
   ],
   "source": [
    "# task lets remove missing value from whole database \n",
    "m=df.values\n",
    "# print(m)\n",
    "imputer.fit(m[:,1:-1])\n",
    "m[:,1:-1]=imputer.transform(m[:,1:-1])\n",
    "print(m)"
   ]
  },
  {
   "attachments": {},
   "cell_type": "markdown",
   "metadata": {},
   "source": [
    "## encoding categorical data :<br>\n",
    "### a) Dependent categorical encoding"
   ]
  },
  {
   "cell_type": "code",
   "execution_count": 148,
   "metadata": {},
   "outputs": [],
   "source": [
    "# lets do encoding for country as it contains only three countries so for such we have \n",
    "# a very good class and encoder present inside the scikit learn (sklearn) they are columntransformer class and\n",
    "# oneHotEncoder as its encoder\n",
    "\n",
    "# transformer\n",
    "from sklearn.compose import ColumnTransformer\n",
    "\n",
    "#encoder\n",
    "from sklearn.preprocessing import OneHotEncoder\n",
    "\n",
    "# now create a object which have functinality according our need \n",
    "# [0] is the column which you want to transform\n",
    "ct=ColumnTransformer(transformers=[('encoder',OneHotEncoder(),[0])],remainder=\"passthrough\")\n",
    "\n",
    "# now transformer is ready to use now we have to use it \n",
    "# in ColumnTransformer you have a function fitTransformer so you dont have to do differently \n",
    "# which you have to do in removing missing values \n",
    "x=np.array(ct.fit_transform(x))"
   ]
  },
  {
   "cell_type": "code",
   "execution_count": 149,
   "metadata": {},
   "outputs": [
    {
     "name": "stdout",
     "output_type": "stream",
     "text": [
      "[[1.0 0.0 0.0 44.0 72000.0 'No']\n",
      " [0.0 0.0 1.0 27.0 48000.0 'Yes']\n",
      " [0.0 1.0 0.0 30.0 54000.0 'No']\n",
      " [0.0 0.0 1.0 38.0 61000.0 'No']\n",
      " [0.0 1.0 0.0 40.0 63777.77777777778 'Yes']\n",
      " [1.0 0.0 0.0 35.0 58000.0 'Yes']\n",
      " [0.0 0.0 1.0 38.77777777777778 52000.0 'No']\n",
      " [1.0 0.0 0.0 48.0 79000.0 'Yes']\n",
      " [0.0 1.0 0.0 50.0 83000.0 'No']\n",
      " [1.0 0.0 0.0 37.0 67000.0 'Yes']]\n"
     ]
    }
   ],
   "source": [
    "# also change main database \n",
    "m=ct.fit_transform(m)\n",
    "print(m)"
   ]
  },
  {
   "cell_type": "markdown",
   "metadata": {},
   "source": [
    "### b) Independent Categorical Encoding"
   ]
  },
  {
   "cell_type": "code",
   "execution_count": 150,
   "metadata": {},
   "outputs": [],
   "source": [
    "# # simple variable encoding\n",
    "# n=[]\n",
    "# for i in y:\n",
    "#     # print(i)\n",
    "#     if i==\"No\":\n",
    "#         n.append(0)\n",
    "#     else:\n",
    "#         n.append(1)\n",
    "\n",
    "# y=n"
   ]
  },
  {
   "cell_type": "code",
   "execution_count": 151,
   "metadata": {},
   "outputs": [
    {
     "name": "stderr",
     "output_type": "stream",
     "text": [
      "/home/ghansham/.local/lib/python3.10/site-packages/sklearn/preprocessing/_label.py:115: DataConversionWarning: A column-vector y was passed when a 1d array was expected. Please change the shape of y to (n_samples, ), for example using ravel().\n",
      "  y = column_or_1d(y, warn=True)\n"
     ]
    }
   ],
   "source": [
    "# so for this we are going to use the labelencoder from the scikitpreprocessing\n",
    "from sklearn.preprocessing import LabelEncoder\n",
    "\n",
    "# create a object for the class\n",
    "le=LabelEncoder()\n",
    "\n",
    "# just send dvv to encoder and your work is done \n",
    "y=le.fit_transform(y)\n",
    "\n",
    "# for such cases we have x and y so that we can apply different ColumnTransformer \n",
    "# without distracting each other "
   ]
  },
  {
   "cell_type": "code",
   "execution_count": 152,
   "metadata": {},
   "outputs": [
    {
     "name": "stdout",
     "output_type": "stream",
     "text": [
      "[0 1 0 0 1 1 0 1 0 1]\n"
     ]
    }
   ],
   "source": [
    "print(y)"
   ]
  },
  {
   "attachments": {},
   "cell_type": "markdown",
   "metadata": {},
   "source": [
    "Splitting data in Test and Training set"
   ]
  },
  {
   "cell_type": "code",
   "execution_count": null,
   "metadata": {},
   "outputs": [],
   "source": []
  },
  {
   "attachments": {},
   "cell_type": "markdown",
   "metadata": {},
   "source": [
    "Feature scaling"
   ]
  },
  {
   "cell_type": "code",
   "execution_count": null,
   "metadata": {},
   "outputs": [],
   "source": []
  }
 ],
 "metadata": {
  "kernelspec": {
   "display_name": "Python 3",
   "language": "python",
   "name": "python3"
  },
  "language_info": {
   "codemirror_mode": {
    "name": "ipython",
    "version": 3
   },
   "file_extension": ".py",
   "mimetype": "text/x-python",
   "name": "python",
   "nbconvert_exporter": "python",
   "pygments_lexer": "ipython3",
   "version": "3.10.6"
  },
  "orig_nbformat": 4,
  "vscode": {
   "interpreter": {
    "hash": "e7370f93d1d0cde622a1f8e1c04877d8463912d04d973331ad4851f04de6915a"
   }
  }
 },
 "nbformat": 4,
 "nbformat_minor": 2
}
