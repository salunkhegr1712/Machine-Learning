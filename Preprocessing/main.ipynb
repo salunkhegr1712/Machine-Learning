{
 "cells": [
  {
   "cell_type": "code",
   "execution_count": 36,
   "metadata": {},
   "outputs": [],
   "source": [
    "# in this file i am going to learn about the data preprocssing with the use of the python"
   ]
  },
  {
   "attachments": {},
   "cell_type": "markdown",
   "metadata": {},
   "source": [
    "# Preprocssing in Python"
   ]
  },
  {
   "attachments": {},
   "cell_type": "markdown",
   "metadata": {},
   "source": [
    "## importing basis packages"
   ]
  },
  {
   "cell_type": "code",
   "execution_count": 37,
   "metadata": {},
   "outputs": [],
   "source": [
    "# import basic tools\n",
    "from matplotlib import pyplot as plt\n",
    "import pandas as pd\n",
    "import numpy as np "
   ]
  },
  {
   "attachments": {},
   "cell_type": "markdown",
   "metadata": {},
   "source": [
    "## importing dataset"
   ]
  },
  {
   "cell_type": "code",
   "execution_count": 38,
   "metadata": {},
   "outputs": [],
   "source": [
    "# importing data as the dataframe\n",
    "df=pd.read_csv(\"Data.csv\")\n",
    "\n",
    "# now our next part is to also find out two different entity :\n",
    "\n",
    "# a) matrix of feature that is dataset without final column of result  \n",
    "# b) dependent variable vector (final column)\n",
    "\n",
    "# easy way using iloc function \n",
    "\n",
    "x=df.iloc[:,:-1].values#.values # for matrix of features\n",
    "y=df.iloc[:,-1:].values#.values # for dependent variable vector"
   ]
  },
  {
   "cell_type": "code",
   "execution_count": 39,
   "metadata": {},
   "outputs": [
    {
     "name": "stdout",
     "output_type": "stream",
     "text": [
      "[['France' 44.0 72000.0]\n",
      " ['Spain' 27.0 48000.0]\n",
      " ['Germany' 30.0 54000.0]\n",
      " ['Spain' 38.0 61000.0]\n",
      " ['Germany' 40.0 nan]\n",
      " ['France' 35.0 58000.0]\n",
      " ['Spain' nan 52000.0]\n",
      " ['France' 48.0 79000.0]\n",
      " ['Germany' 50.0 83000.0]\n",
      " ['France' 37.0 67000.0]]\n"
     ]
    }
   ],
   "source": [
    "print(x)"
   ]
  },
  {
   "cell_type": "code",
   "execution_count": 40,
   "metadata": {},
   "outputs": [
    {
     "name": "stdout",
     "output_type": "stream",
     "text": [
      "[['No']\n",
      " ['Yes']\n",
      " ['No']\n",
      " ['No']\n",
      " ['Yes']\n",
      " ['Yes']\n",
      " ['No']\n",
      " ['Yes']\n",
      " ['No']\n",
      " ['Yes']]\n"
     ]
    }
   ],
   "source": [
    "print(y)"
   ]
  },
  {
   "attachments": {},
   "cell_type": "markdown",
   "metadata": {},
   "source": [
    "## Taking care of missing data"
   ]
  },
  {
   "cell_type": "code",
   "execution_count": 41,
   "metadata": {},
   "outputs": [
    {
     "name": "stdout",
     "output_type": "stream",
     "text": [
      "[['France' 44.0 72000.0]\n",
      " ['Spain' 27.0 48000.0]\n",
      " ['Germany' 30.0 54000.0]\n",
      " ['Spain' 38.0 61000.0]\n",
      " ['Germany' 40.0 63777.77777777778]\n",
      " ['France' 35.0 58000.0]\n",
      " ['Spain' 38.77777777777778 52000.0]\n",
      " ['France' 48.0 79000.0]\n",
      " ['Germany' 50.0 83000.0]\n",
      " ['France' 37.0 67000.0]]\n"
     ]
    }
   ],
   "source": [
    "# we are going to use simpleImputer from scikit which is one of the great ML library \n",
    "from sklearn.impute import SimpleImputer\n",
    "\n",
    "# the SimpleImputer is a class so lets create a object\n",
    "imputer = SimpleImputer(missing_values=np.nan,strategy=\"mean\")\n",
    "\n",
    "# now lets fit the object with the data we want to change \n",
    "imputer.fit(x[:,1:])\n",
    "# this will only change same row \n",
    "x[:,1:]=imputer.transform(x[:,1:])\n",
    "print(x)"
   ]
  },
  {
   "cell_type": "code",
   "execution_count": 42,
   "metadata": {},
   "outputs": [
    {
     "name": "stdout",
     "output_type": "stream",
     "text": [
      "[['France' 44.0 72000.0 'No']\n",
      " ['Spain' 27.0 48000.0 'Yes']\n",
      " ['Germany' 30.0 54000.0 'No']\n",
      " ['Spain' 38.0 61000.0 'No']\n",
      " ['Germany' 40.0 63777.77777777778 'Yes']\n",
      " ['France' 35.0 58000.0 'Yes']\n",
      " ['Spain' 38.77777777777778 52000.0 'No']\n",
      " ['France' 48.0 79000.0 'Yes']\n",
      " ['Germany' 50.0 83000.0 'No']\n",
      " ['France' 37.0 67000.0 'Yes']]\n"
     ]
    }
   ],
   "source": [
    "# task lets remove missing value from whole database \n",
    "m=df.values\n",
    "# print(m)\n",
    "imputer.fit(m[:,1:-1])\n",
    "m[:,1:-1]=imputer.transform(m[:,1:-1])\n",
    "print(m)"
   ]
  },
  {
   "attachments": {},
   "cell_type": "markdown",
   "metadata": {},
   "source": [
    "## encoding categorical data :<br>\n",
    "### a) Dependent categorical encoding"
   ]
  },
  {
   "cell_type": "code",
   "execution_count": 43,
   "metadata": {},
   "outputs": [],
   "source": [
    "# lets do encoding for country as it contains only three countries so for such we have \n",
    "# a very good class and encoder present inside the scikit learn (sklearn) they are columntransformer class and\n",
    "# oneHotEncoder as its encoder\n",
    "\n",
    "# transformer\n",
    "from sklearn.compose import ColumnTransformer\n",
    "\n",
    "#encoder\n",
    "from sklearn.preprocessing import OneHotEncoder\n",
    "\n",
    "# now create a object which have functinality according our need \n",
    "# [0] is the column which you want to transform\n",
    "ct=ColumnTransformer(transformers=[('encoder',OneHotEncoder(),[0])],remainder=\"passthrough\")\n",
    "\n",
    "# now transformer is ready to use now we have to use it \n",
    "# in ColumnTransformer you have a function fitTransformer so you dont have to do differently \n",
    "# which you have to do in removing missing values \n",
    "x=np.array(ct.fit_transform(x))"
   ]
  },
  {
   "cell_type": "code",
   "execution_count": 44,
   "metadata": {},
   "outputs": [
    {
     "name": "stdout",
     "output_type": "stream",
     "text": [
      "[[1.0 0.0 0.0 44.0 72000.0 'No']\n",
      " [0.0 0.0 1.0 27.0 48000.0 'Yes']\n",
      " [0.0 1.0 0.0 30.0 54000.0 'No']\n",
      " [0.0 0.0 1.0 38.0 61000.0 'No']\n",
      " [0.0 1.0 0.0 40.0 63777.77777777778 'Yes']\n",
      " [1.0 0.0 0.0 35.0 58000.0 'Yes']\n",
      " [0.0 0.0 1.0 38.77777777777778 52000.0 'No']\n",
      " [1.0 0.0 0.0 48.0 79000.0 'Yes']\n",
      " [0.0 1.0 0.0 50.0 83000.0 'No']\n",
      " [1.0 0.0 0.0 37.0 67000.0 'Yes']]\n"
     ]
    }
   ],
   "source": [
    "# also change main database \n",
    "m=ct.fit_transform(m)\n",
    "print(m)"
   ]
  },
  {
   "cell_type": "markdown",
   "metadata": {},
   "source": [
    "### b) Independent Categorical Encoding"
   ]
  },
  {
   "cell_type": "code",
   "execution_count": 45,
   "metadata": {},
   "outputs": [],
   "source": [
    "# # simple variable encoding\n",
    "# n=[]\n",
    "# for i in y:\n",
    "#     # print(i)\n",
    "#     if i==\"No\":\n",
    "#         n.append(0)\n",
    "#     else:\n",
    "#         n.append(1)\n",
    "\n",
    "# y=n"
   ]
  },
  {
   "cell_type": "code",
   "execution_count": 46,
   "metadata": {},
   "outputs": [
    {
     "name": "stderr",
     "output_type": "stream",
     "text": [
      "/home/ghansham/.local/lib/python3.10/site-packages/sklearn/preprocessing/_label.py:115: DataConversionWarning: A column-vector y was passed when a 1d array was expected. Please change the shape of y to (n_samples, ), for example using ravel().\n",
      "  y = column_or_1d(y, warn=True)\n"
     ]
    }
   ],
   "source": [
    "# so for this we are going to use the labelencoder from the scikitpreprocessing\n",
    "from sklearn.preprocessing import LabelEncoder\n",
    "\n",
    "# create a object for the class\n",
    "le=LabelEncoder()\n",
    "\n",
    "# just send dvv to encoder and your work is done \n",
    "y=le.fit_transform(y)\n",
    "\n",
    "# for such cases we have x and y so that we can apply different ColumnTransformer \n",
    "# without distracting each other "
   ]
  },
  {
   "cell_type": "code",
   "execution_count": 47,
   "metadata": {},
   "outputs": [
    {
     "name": "stdout",
     "output_type": "stream",
     "text": [
      "[0 1 0 0 1 1 0 1 0 1]\n"
     ]
    }
   ],
   "source": [
    "print(y)"
   ]
  },
  {
   "attachments": {},
   "cell_type": "markdown",
   "metadata": {},
   "source": [
    "## Splitting data in Test and Training set"
   ]
  },
  {
   "cell_type": "code",
   "execution_count": 62,
   "metadata": {},
   "outputs": [],
   "source": [
    "# we get 4 set after spliting data and they are 2 from matrix of feature and 2 from dependent variable vector \n",
    "\n",
    "# we are going to use test_train_split function from the sklearn library\n",
    "from sklearn.model_selection import train_test_split\n",
    "\n",
    "# so now straightly use the function to get test and train sets \n",
    "xTrain,xTest,yTrain,yTest=train_test_split(x,y)\n",
    "\n",
    "# lets study what argument train_test_split takes\n",
    "# x : matrix of feature\n",
    "# y : dependent variable vector\n",
    "# test_size : aa and aa is fraction from 1 and if you multipy it with 100 you will get % of test data and remaining will train set \n",
    "# random_state=1 means select entries randomly and it will put entries randomly in test and train set "
   ]
  },
  {
   "cell_type": "code",
   "execution_count": 63,
   "metadata": {},
   "outputs": [
    {
     "name": "stdout",
     "output_type": "stream",
     "text": [
      "[[0.0 0.0 1.0 38.77777777777778 52000.0]\n",
      " [0.0 1.0 0.0 30.0 54000.0]\n",
      " [1.0 0.0 0.0 37.0 67000.0]\n",
      " [1.0 0.0 0.0 44.0 72000.0]\n",
      " [0.0 0.0 1.0 38.0 61000.0]\n",
      " [0.0 1.0 0.0 50.0 83000.0]\n",
      " [0.0 1.0 0.0 40.0 63777.77777777778]]\n"
     ]
    }
   ],
   "source": [
    "print(xTrain)"
   ]
  },
  {
   "cell_type": "code",
   "execution_count": 64,
   "metadata": {},
   "outputs": [
    {
     "name": "stdout",
     "output_type": "stream",
     "text": [
      "[0 0 1 0 0 0 1]\n"
     ]
    }
   ],
   "source": [
    "print(yTrain)"
   ]
  },
  {
   "cell_type": "code",
   "execution_count": 65,
   "metadata": {},
   "outputs": [
    {
     "name": "stdout",
     "output_type": "stream",
     "text": [
      "[[0.0 0.0 1.0 27.0 48000.0]\n",
      " [1.0 0.0 0.0 48.0 79000.0]\n",
      " [1.0 0.0 0.0 35.0 58000.0]]\n"
     ]
    }
   ],
   "source": [
    "print(xTest)"
   ]
  },
  {
   "cell_type": "code",
   "execution_count": 57,
   "metadata": {},
   "outputs": [
    {
     "name": "stdout",
     "output_type": "stream",
     "text": [
      "[1 0]\n"
     ]
    }
   ],
   "source": [
    "print(yTest)"
   ]
  },
  {
   "attachments": {},
   "cell_type": "markdown",
   "metadata": {},
   "source": [
    "## Feature scaling"
   ]
  },
  {
   "cell_type": "code",
   "execution_count": 68,
   "metadata": {},
   "outputs": [],
   "source": [
    "# now lets get standardscalar to apply feature scaling \n",
    "# we only apply feature scaling on x train \n",
    "\n",
    "# import standardscalar and it is a class\n",
    "from sklearn.preprocessing import StandardScaler\n",
    "ss=StandardScaler() # dont have to pass any argument\n",
    "\n",
    "xTrain[:,3:]=ss.fit_transform(xTrain[:,3:])"
   ]
  },
  {
   "cell_type": "code",
   "execution_count": 69,
   "metadata": {},
   "outputs": [
    {
     "name": "stdout",
     "output_type": "stream",
     "text": [
      "[[0.0 0.0 1.0 -0.15791351973305862 -1.2832001394292931]\n",
      " [0.0 1.0 0.0 -1.6899517024064163 -1.0808431712589666]\n",
      " [1.0 0.0 0.0 -0.46819973394538433 0.23447712184815628]\n",
      " [1.0 0.0 0.0 0.7535522345156476 0.7403695422739728]\n",
      " [0.0 0.0 1.0 -0.2936637384509512 -0.3725937826628235]\n",
      " [0.0 1.0 0.0 1.8007682074822464 1.853332867210769]\n",
      " [0.0 1.0 0.0 0.055408252537915086 -0.09154243798181402]]\n"
     ]
    }
   ],
   "source": [
    "print(xTrain)"
   ]
  },
  {
   "cell_type": "code",
   "execution_count": 70,
   "metadata": {},
   "outputs": [],
   "source": [
    "# now apply feature scaling on xtest and we dont have to use fit with xtest as it can lead to info leak\n",
    "# just use transform from same scalar\n",
    "\n",
    "xTest[:,3:]=ss.transform(xTest[:,3:])"
   ]
  },
  {
   "cell_type": "code",
   "execution_count": 71,
   "metadata": {},
   "outputs": [
    {
     "name": "stdout",
     "output_type": "stream",
     "text": [
      "[[0.0 0.0 1.0 -2.2135596888897155 -1.6879140757699465]\n",
      " [1.0 0.0 0.0 1.4516962164933802 1.4486189308701158]\n",
      " [1.0 0.0 0.0 -0.8172717249342506 -0.6761292349183133]]\n"
     ]
    }
   ],
   "source": [
    "print(xTest)"
   ]
  }
 ],
 "metadata": {
  "kernelspec": {
   "display_name": "Python 3",
   "language": "python",
   "name": "python3"
  },
  "language_info": {
   "codemirror_mode": {
    "name": "ipython",
    "version": 3
   },
   "file_extension": ".py",
   "mimetype": "text/x-python",
   "name": "python",
   "nbconvert_exporter": "python",
   "pygments_lexer": "ipython3",
   "version": "3.10.6"
  },
  "orig_nbformat": 4,
  "vscode": {
   "interpreter": {
    "hash": "e7370f93d1d0cde622a1f8e1c04877d8463912d04d973331ad4851f04de6915a"
   }
  }
 },
 "nbformat": 4,
 "nbformat_minor": 2
}
